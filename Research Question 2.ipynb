{
 "cells": [
  {
   "cell_type": "code",
   "execution_count": 11,
   "id": "0e26b362",
   "metadata": {},
   "outputs": [],
   "source": [
    "import re\n",
    "import nltk\n",
    "import spacy\n",
    "import json\n",
    "from sklearn.feature_extraction.text import CountVectorizer\n",
    "from sklearn.linear_model import LogisticRegression\n",
    "from sklearn.metrics import accuracy_score\n",
    "from sklearn.model_selection import train_test_split\n",
    "import matplotlib.pyplot as plt\n",
    "import random\n",
    "from sklearn.metrics import classification_report"
   ]
  },
  {
   "cell_type": "code",
   "execution_count": 12,
   "id": "e8b3291e",
   "metadata": {},
   "outputs": [
    {
     "name": "stderr",
     "output_type": "stream",
     "text": [
      "[nltk_data] Downloading package stopwords to\n",
      "[nltk_data]     C:\\Users\\DELL\\AppData\\Roaming\\nltk_data...\n",
      "[nltk_data]   Package stopwords is already up-to-date!\n"
     ]
    },
    {
     "data": {
      "text/plain": [
       "True"
      ]
     },
     "execution_count": 12,
     "metadata": {},
     "output_type": "execute_result"
    }
   ],
   "source": [
    "nlp = spacy.load(\"en_core_web_sm\")\n",
    "# Download necessary resources for text processing\n",
    "nltk.download('stopwords')\n"
   ]
  },
  {
   "cell_type": "code",
   "execution_count": 13,
   "id": "0d42fbd3",
   "metadata": {},
   "outputs": [],
   "source": [
    "# Function to refine and standardize text for processing\n",
    "def refine_text(input_text):\n",
    "    cleaned_text = re.sub(r'[^\\w\\s]', '', input_text.lower())\n",
    "    return cleaned_text\n",
    "\n",
    "def get_conversation_id(conversation):\n",
    "    conversation_id = conversation.get('ConversationID', None)  \n",
    "    if conversation_id:\n",
    "        return conversation_id\n",
    "    return conversation_id"
   ]
  },
  {
   "cell_type": "code",
   "execution_count": 14,
   "id": "560baca7",
   "metadata": {},
   "outputs": [],
   "source": [
    "def process_data_from_files(file_paths):\n",
    "    processed_texts = []\n",
    "    for path in file_paths:\n",
    "        with open(path, 'r') as data_file:\n",
    "            data_content = json.load(data_file)\n",
    "            for source in data_content['Sources']:\n",
    "                for sharing in source.get('ChatgptSharing', []):\n",
    "                    for conversation in sharing.get('Conversations', []):\n",
    "                        prompt = conversation.get('Prompt', '')\n",
    "                        cleaned_prompt = refine_text(prompt)\n",
    "                        processed_texts.append((cleaned_prompt, conversation))  # Storing prompt and conversation info\n",
    "    return processed_texts"
   ]
  },
  {
   "cell_type": "code",
   "execution_count": 15,
   "id": "ef471ff6",
   "metadata": {},
   "outputs": [],
   "source": [
    "def identify_contextual_prompts(processed_texts):\n",
    "    contextual_prompts = []\n",
    "    for idx, (prompt, conversation) in enumerate(processed_texts):\n",
    "        pronouns = [token.text.lower() for token in nlp(prompt) if token.pos_ == 'PRON']\n",
    "        if any(pronoun in ['it', 'they', 'he', 'she'] for pronoun in pronouns):\n",
    "            contextual_prompts.append((prompt, idx))\n",
    "        temporal_phrases = ['yesterday', 'earlier', 'after that', 'previously']\n",
    "        if any(phrase in prompt.lower() for phrase in temporal_phrases):\n",
    "            contextual_prompts.append((prompt, idx))\n",
    "        if idx > 0:\n",
    "            previous_doc = nlp(processed_texts[idx - 1][0])\n",
    "            if nlp(prompt).similarity(previous_doc) > 0.7:\n",
    "                contextual_prompts.append((prompt, idx))\n",
    "            for ent in previous_doc.ents:\n",
    "                if ent.label_ in ['PERSON', 'ORG', 'DATE', 'GPE']:\n",
    "                    if ent.text.lower() in prompt.lower():\n",
    "                        contextual_prompts.append((prompt, idx))\n",
    "    return contextual_prompts\n",
    "\n",
    "def identify_multi_turn_prompts(processed_texts):\n",
    "    multi_turn = []\n",
    "    for idx, (prompt, conversation) in enumerate(processed_texts):\n",
    "        # Criteria for Multi-turn Prompts\n",
    "        if idx > 0:\n",
    "            current_conversation_id = get_conversation_id(conversation)\n",
    "            previous_conversation_id = get_conversation_id(processed_texts[idx - 1][1])\n",
    "\n",
    "            if current_conversation_id == previous_conversation_id:\n",
    "                previous_prompt = processed_texts[idx - 1][0]\n",
    "                # Add logic to identify multi-turn prompts within the same conversation\n",
    "                if len(prompt.split()) > len(previous_prompt.split()):  # Longer prompts indicating continuity\n",
    "                    multi_turn.append((prompt, idx))\n",
    "                elif 'how' in prompt.lower() or 'why' in prompt.lower():  # Complex queries indicating multi-turn\n",
    "                    multi_turn.append((prompt, idx))\n",
    "                elif prompt.lower().startswith(('and', 'but', 'also', 'however')):  # Sequel phrases indicating continuation\n",
    "                    multi_turn.append((prompt, idx))\n",
    "    return multi_turn\n",
    "\n",
    "def classify_prompts(processed_texts):\n",
    "    single_turn = []\n",
    "    multi_turn = []\n",
    "    contextual = []\n",
    "    for idx, (prompt, _) in enumerate(processed_texts):\n",
    "        words_count = len(prompt.split())\n",
    "        if words_count <= 3:\n",
    "            single_turn.append((prompt, idx))\n",
    "        elif 3 < words_count <= 10:\n",
    "            multi_turn.append((prompt, idx))\n",
    "        else:\n",
    "            contextual.append((prompt, idx))\n",
    "    return single_turn, multi_turn, contextual"
   ]
  },
  {
   "cell_type": "code",
   "execution_count": 16,
   "id": "8d502812",
   "metadata": {},
   "outputs": [],
   "source": [
    "def print_samples_category(category, category_name):\n",
    "    print(f\"Samples for {category_name} category:\")\n",
    "    samples = random.sample(category, 5)  # Select random 10 samples for the category\n",
    "    for i, sample in enumerate(samples, start=1):\n",
    "        print(f\"{i}. {sample[0]}\\n\")"
   ]
  },
  {
   "cell_type": "code",
   "execution_count": 18,
   "id": "1840fb62",
   "metadata": {},
   "outputs": [
    {
     "name": "stderr",
     "output_type": "stream",
     "text": [
      "C:\\Users\\DELL\\AppData\\Local\\Temp\\ipykernel_19104\\3898851607.py:12: UserWarning: [W007] The model you're using has no word vectors loaded, so the result of the Doc.similarity method will be based on the tagger, parser and NER, which may not give useful similarity judgements. This may happen if you're using one of the small models, e.g. `en_core_web_sm`, which don't ship with word vectors and only use context-sensitive tensors. You can always add your own word vectors, or use one of the larger models instead if available.\n",
      "  if nlp(prompt).similarity(previous_doc) > 0.7:\n",
      "C:\\Users\\DELL\\AppData\\Local\\Temp\\ipykernel_19104\\3898851607.py:12: UserWarning: [W008] Evaluating Doc.similarity based on empty vectors.\n",
      "  if nlp(prompt).similarity(previous_doc) > 0.7:\n"
     ]
    },
    {
     "name": "stdout",
     "output_type": "stream",
     "text": [
      "Samples for Single-turn category:\n",
      "1. are you ok\n",
      "\n",
      "2. cat the file\n",
      "\n",
      "3. continue\n",
      "\n",
      "4. hello hello \n",
      "\n",
      "5. in economics \n",
      "\n",
      "\n",
      "\n",
      "Samples for Multi-turn category:\n",
      "1. i am happy for you but this is very serious\n",
      "\n",
      "\n",
      "2. can u give me the full code please thank you\n",
      "\n",
      "3. why doesnt apple add cellular service to laptops\n",
      "\n",
      "4. can you try lightgbm \n",
      "\n",
      "5. can you translate it to english please\n",
      "\n",
      "\n",
      "\n",
      "Samples for Contextual category:\n",
      "1. i dont like any of these i want it to look like bauhaus or some new artsy gallery\n",
      "\n",
      "2. i want to create a customcommand in cypress to write dinamycally a new fixture with this function\n",
      "\n",
      "cypresscommandsaddgeneratefixture   \n",
      "  cywritefilecypressfixturestorrentssampletxt hello3\n",
      "\n",
      "  cyreadfilecypressfixturestorrentssampletxt utf8thenlogo  \n",
      "\n",
      "    const buf  bufferfromsome file content\n",
      "    bufname  some file name\n",
      "\n",
      "    createtorrentbuf err torrent  \n",
      "\n",
      "      cywritefilecypressfixturestorrentssampletxttorrenterrortxt buf utf8\n",
      "\n",
      "      let buffer  cypressbufferfromtorrent\n",
      "\n",
      "      if err \n",
      "        cywritefilecypressfixturestorrentssampletxttorrent buffer binary\n",
      "       else \n",
      "        cywritefilecypressfixturestorrentssampletxttorrent error utf8\n",
      "      \n",
      "      \n",
      "\n",
      "    cywritefilecypressfixturestorrentssampletxttorrenttxt logo utf8\n",
      "  \n",
      "\n",
      "\n",
      "but it seems it does not work becuase it has a callbak the callback function seems to not be executed\n",
      "\n",
      "3. 1 i use iterm2 as a terminal and vim for text editing i have used a number of vim plugins over the years and have not maintained the setup i currently get a lot of errors when i try to use vim\n",
      "2 yes i use homebrew as well as the os x developer tools\n",
      "3 i somehow have bash_profile bashrc vim vimrc zprofile and zshrc files in my home directory this is a mess\n",
      "\n",
      "4. excellent work perfect answer\n",
      "\n",
      "please correctly implement the next chart\n",
      "\n",
      "the next chart will look at the diversity of characters so we should the length of the contains list for each password and chart the distribution of these\n",
      "\n",
      "5. so im trying to say this\n",
      "\n",
      "go to your gitpod file and add the source for our script to both terraform and aws labels\n",
      "\n",
      "do u have a better technical word\n",
      "\n"
     ]
    }
   ],
   "source": [
    "data_files = ['discuss.json', 'issues.json', 'commit.json','pr_sharings.json','hn_sharings.json','file_sharing.json']\n",
    "\n",
    "processed_texts = process_data_from_files(data_files)\n",
    "\n",
    "identified_contextual_prompts = identify_contextual_prompts(processed_texts)\n",
    "\n",
    "single_turn, multi_turn, contextual = classify_prompts(processed_texts)\n",
    "\n",
    "identified_multi_turn_prompts = identify_multi_turn_prompts(processed_texts)\n",
    "\n",
    "texts = [text[0] for text in processed_texts]\n",
    "labels = ['Single-turn' if idx in [i[1] for i in single_turn] else\n",
    "          'Multi-turn' if idx in [i[1] for i in multi_turn] else\n",
    "          'Contextual' for idx, _ in enumerate(processed_texts)]\n",
    "\n",
    "\n",
    "print_samples_category(single_turn, 'Single-turn')\n",
    "print(\"\\n\")\n",
    "print_samples_category(multi_turn, 'Multi-turn')\n",
    "print(\"\\n\")\n",
    "print_samples_category(contextual,'Contextual')"
   ]
  },
  {
   "cell_type": "code",
   "execution_count": 19,
   "id": "564948ed",
   "metadata": {},
   "outputs": [
    {
     "name": "stdout",
     "output_type": "stream",
     "text": [
      "Accuracy of the Logistic Regression model: 88.63%\n"
     ]
    }
   ],
   "source": [
    "# Text vectorization\n",
    "vectorizer = CountVectorizer(stop_words='english')\n",
    "X = vectorizer.fit_transform(texts)\n",
    "\n",
    "# Split data for training and testing\n",
    "X_train, X_test, y_train, y_test = train_test_split(X, labels, test_size=0.2, random_state=42)\n",
    "\n",
    "# Train Logistic Regression model\n",
    "logreg = LogisticRegression(max_iter=1000)\n",
    "logreg.fit(X_train, y_train)\n",
    "\n",
    "# Predictions on test set\n",
    "y_pred = logreg.predict(X_test)\n",
    "\n",
    "# Calculate accuracy\n",
    "accuracy = accuracy_score(y_test, y_pred)\n",
    "print(f\"Accuracy of the Logistic Regression model: {accuracy:.2%}\")"
   ]
  },
  {
   "cell_type": "code",
   "execution_count": 20,
   "id": "ef1adbf0",
   "metadata": {},
   "outputs": [
    {
     "data": {
      "image/png": "[encoded data removed]",
      "text/plain": [
       "<Figure size 576x360 with 1 Axes>"
      ]
     },
     "metadata": {
      "needs_background": "light"
     },
     "output_type": "display_data"
    }
   ],
   "source": [
    "def plot_category_counts(single_turn, multi_turn, contextual):\n",
    "    categories = ['Single-turn', 'Multi-turn', 'Contextual']\n",
    "    counts = [len(single_turn), len(multi_turn), len(contextual)]\n",
    "    plt.figure(figsize=(8, 5))\n",
    "    plt.bar(categories, counts, color=['skyblue'])\n",
    "    plt.xlabel('Categories')\n",
    "    plt.ylabel('Counts')\n",
    "    plt.title('Distribution of Prompt Categories')\n",
    "    plt.show()\n",
    "plot_category_counts(single_turn, multi_turn, contextual)"
   ]
  },
  {
   "cell_type": "code",
   "execution_count": 21,
   "id": "d7c8a5c0",
   "metadata": {},
   "outputs": [
    {
     "name": "stdout",
     "output_type": "stream",
     "text": [
      "Enter a prompt: I'm optimizing a Python function for large data sets. Currently, it's slow with numpy arrays. Any suggestions for faster processing?\n",
      "Category: Contextual\n"
     ]
    }
   ],
   "source": [
    "# User input to classify a prompt\n",
    "user_prompt = input(\"Enter a prompt: \")\n",
    "cleaned_user_prompt = refine_text(user_prompt)\n",
    "\n",
    "# Vectorize user input prompt and predict its category\n",
    "user_input_vectorized = vectorizer.transform([cleaned_user_prompt])\n",
    "predicted_category = logreg.predict(user_input_vectorized)[0]\n",
    "\n",
    "# Display the category based on classification\n",
    "if predicted_category == 'Single-turn':\n",
    "    print(\"Category: Single-turn\")\n",
    "elif predicted_category == 'Multi-turn':\n",
    "    print(\"Category: Multi-turn\")\n",
    "elif predicted_category == 'Contextual':\n",
    "    print(\"Category: Contextual\")\n",
    "else:\n",
    "    print(\"Unable to classify the prompt\")\n"
   ]
  },
  {
   "cell_type": "code",
   "execution_count": 22,
   "id": "2a48d382",
   "metadata": {},
   "outputs": [
    {
     "name": "stdout",
     "output_type": "stream",
     "text": [
      "Classification Report:\n",
      "              precision    recall  f1-score   support\n",
      "\n",
      "  Contextual       0.95      0.92      0.94      2892\n",
      "  Multi-turn       0.83      0.84      0.84      1724\n",
      " Single-turn       0.76      0.83      0.79       618\n",
      "\n",
      "    accuracy                           0.89      5234\n",
      "   macro avg       0.85      0.87      0.86      5234\n",
      "weighted avg       0.89      0.89      0.89      5234\n",
      "\n"
     ]
    }
   ],
   "source": [
    "# Print classification report\n",
    "print(\"Classification Report:\")\n",
    "print(classification_report(y_test, y_pred))"
   ]
  },
  {
   "cell_type": "code",
   "execution_count": null,
   "id": "2daceac0",
   "metadata": {},
   "outputs": [],
   "source": []
  }
 ],
 "metadata": {
  "kernelspec": {
   "display_name": "Python 3 (ipykernel)",
   "language": "python",
   "name": "python3"
  },
  "language_info": {
   "codemirror_mode": {
    "name": "ipython",
    "version": 3
   },
   "file_extension": ".py",
   "mimetype": "text/x-python",
   "name": "python",
   "nbconvert_exporter": "python",
   "pygments_lexer": "ipython3",
   "version": "3.10.6"
  }
 },
 "nbformat": 4,
 "nbformat_minor": 5
}
