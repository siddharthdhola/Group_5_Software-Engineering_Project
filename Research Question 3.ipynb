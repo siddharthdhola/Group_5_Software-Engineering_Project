{
 "cells": [
  {
   "cell_type": "code",
   "execution_count": 1,
   "id": "460d3f9a",
   "metadata": {},
   "outputs": [],
   "source": [
    "import json\n",
    "import re\n",
    "import nltk\n",
    "from nltk.corpus import stopwords\n",
    "from nltk.stem import WordNetLemmatizer\n",
    "from sklearn.feature_extraction.text import TfidfVectorizer\n",
    "from sklearn.model_selection import train_test_split\n",
    "from sklearn.svm import SVC\n",
    "from sklearn.metrics import accuracy_score, classification_report\n",
    "from sklearn.preprocessing import LabelEncoder\n",
    "from sklearn.metrics.pairwise import cosine_similarity\n",
    "import matplotlib.pyplot as plt\n",
    "import random"
   ]
  },
  {
   "cell_type": "code",
   "execution_count": 2,
   "id": "3b8db666",
   "metadata": {},
   "outputs": [
    {
     "name": "stderr",
     "output_type": "stream",
     "text": [
      "[nltk_data] Downloading package stopwords to\n",
      "[nltk_data]     C:\\Users\\DELL\\AppData\\Roaming\\nltk_data...\n",
      "[nltk_data]   Package stopwords is already up-to-date!\n",
      "[nltk_data] Downloading package wordnet to\n",
      "[nltk_data]     C:\\Users\\DELL\\AppData\\Roaming\\nltk_data...\n",
      "[nltk_data]   Package wordnet is already up-to-date!\n"
     ]
    },
    {
     "data": {
      "text/plain": [
       "True"
      ]
     },
     "execution_count": 2,
     "metadata": {},
     "output_type": "execute_result"
    }
   ],
   "source": [
    "nltk.download('stopwords')\n",
    "nltk.download('wordnet')\n"
   ]
  },
  {
   "cell_type": "code",
   "execution_count": 3,
   "id": "59f394b7",
   "metadata": {},
   "outputs": [],
   "source": [
    "labelling_keys = {\n",
    "    'Content Creation': [\n",
    "        'Text generation', 'Article writing', 'Creative writing', 'Blog post generation',\n",
    "        'Storytelling', 'Copywriting', 'Narrative generation', 'Automatic content creation',\n",
    "        'Automated storytelling', 'Writing assistance', 'Fiction generation', 'Text synthesis',\n",
    "        'Automatic summarization', 'Poetry generation', 'Script generation', 'Dialogue generation',\n",
    "        'Generating ideas', 'Content automation', 'Textual creativity', 'Content personalization',\n",
    "        'Content recommendation', 'Auto-response generation', 'Content enrichment', 'Sentence completion',\n",
    "        'Sentence generation', 'Paragraph generation', 'Text variation', 'Text transformation',\n",
    "        'Sentence restructuring', 'Text rephrasing', 'Auto-expansion of ideas', 'Text paraphrasing',\n",
    "        'Text editing assistance', 'Auto-correction', 'Generating prompts', 'Automated composition',\n",
    "        'Auto-generated stories', 'Content optimization', 'Language generation', 'Dialogue simulation',\n",
    "        'Text augmentation', 'AI writing assistant', 'Text summarization', 'Content curation',\n",
    "        'Text generation API', 'Automated storytelling', 'Dynamic content creation',\n",
    "        'Content personalization', 'Automated essay writing', 'Article summarization'\n",
    "    ],\n",
    "    'Information Retrieval': [\n",
    "        'Search engines', 'Query processing', 'Information extraction', 'Document retrieval',\n",
    "        'Keyword search', 'Text indexing', 'Information access', 'Semantic search', 'Data retrieval',\n",
    "        'Document clustering', 'Knowledge discovery', 'Text mining', 'Fact extraction', 'Web scraping',\n",
    "        'Information filtering', 'Relevance ranking', 'Indexing algorithms', 'Data exploration',\n",
    "        'Text classification', 'Document analysis', 'Information organization', 'Document ranking',\n",
    "        'Data categorization', 'Text tagging', 'Entity recognition', 'Document summarization',\n",
    "        'Search optimization', 'Natural language search', 'Contextual search', 'Information integration',\n",
    "        'Data aggregation', 'Named entity recognition', 'Textual relevance', 'Corpus analysis',\n",
    "        'Text retrieval', 'Sentiment analysis', 'Content recommendation', 'Topic modeling',\n",
    "        'Information architecture', 'Information retrieval systems', 'Information extraction API',\n",
    "        'Search relevance', 'Information retrieval models', 'Data mining techniques', 'Textual similarity',\n",
    "        'Contextual understanding', 'Retrieval accuracy', 'Search engine optimization',\n",
    "        'Content-based retrieval', 'Document similarity'\n",
    "    ],\n",
    "    'Natural language understanding': [\n",
    "        'Sentiment analysis', 'Intent recognition', 'Language comprehension', 'Contextual understanding',\n",
    "        'Text understanding', 'Language modeling', 'Semantic analysis', 'Text classification',\n",
    "        'Named entity recognition', 'Entity linking', 'Text summarization', 'Information extraction',\n",
    "        'Text segmentation', 'Language parsing', 'Syntax analysis', 'Discourse analysis',\n",
    "        'Conversational understanding', 'Pragmatic understanding', 'Coreference resolution',\n",
    "        'Semantic role labeling', 'Paraphrase detection', 'Text coherence', 'Document understanding',\n",
    "        'Contextual relevance', 'Textual entailment', 'Natural language processing',\n",
    "        'Question answering', 'Text annotation', 'Semantic parsing', 'Textual entailment',\n",
    "        'Language understanding models', 'Semantic similarity', 'Textual entailment',\n",
    "        'Contextual understanding', 'Sentence semantics', 'Textual coherence',\n",
    "        'Language understanding AI', 'Textual inference', 'Language understanding algorithms',\n",
    "        'Textual entailment', 'Pragmatic understanding', 'Syntactic understanding',\n",
    "        'Text understanding models', 'Textual entailment', 'Natural language understanding systems',\n",
    "        'Textual entailment', 'Language understanding tools'\n",
    "    ],\n",
    "    'Language Translation': [\n",
    "        'Machine translation', 'Language conversion', 'Text translation', 'Automatic translation',\n",
    "        'Multilingual translation', 'Language localization', 'Neural machine translation',\n",
    "        'Bilingual translation', 'Language pair translation', 'Cross-language translation',\n",
    "        'Language interpretation', 'Language synthesis', 'Speech-to-text translation',\n",
    "        'Text-to-speech translation', 'Language adaptation', 'Language modeling', 'Phrase-based translation',\n",
    "        'Contextual translation', 'Language mapping', 'Language understanding', 'Translation services',\n",
    "        'Language conversion API', 'Language conversion tools', 'Linguistic translation',\n",
    "        'Language understanding', 'Language recognition', 'Translational accuracy', 'Language proficiency',\n",
    "        'Language fluency', 'Language semantics', 'Textual translation', 'Linguistic diversity',\n",
    "        'Translation accuracy', 'Language understanding models', 'Translation APIs',\n",
    "        'Language translation systems', 'Translation algorithms', 'Language transformation',\n",
    "        'Multilingual understanding', 'Language interpretation models', 'Cross-lingual understanding',\n",
    "        'Language translation technology', 'Language conversion models', 'Translation quality',\n",
    "        'Language pair understanding', 'Language conversion accuracy', 'Language synthesis models',\n",
    "        'Translation validation', 'Language adaptation algorithms', 'Translation error analysis'\n",
    "    ]\n",
    "}"
   ]
  },
  {
   "cell_type": "code",
   "execution_count": 4,
   "id": "a87d4dca",
   "metadata": {},
   "outputs": [],
   "source": [
    "def preprocess_text(raw_text):\n",
    "    raw_text = re.sub(r'[^\\w\\s]', '', raw_text.lower())\n",
    "    tokenized_words = raw_text.split()\n",
    "    filtered_words = [word for word in tokenized_words if word not in stopwords.words('english')]\n",
    "    word_lemmatizer = WordNetLemmatizer()\n",
    "    lemmatized_words = [word_lemmatizer.lemmatize(word) for word in filtered_words]\n",
    "    return ' '.join(lemmatized_words)\n",
    "\n",
    "def assign_labels(text, labelling_keys, vectorizer):\n",
    "    word_lemmatizer = WordNetLemmatizer()\n",
    "\n",
    "    # Preprocess input text\n",
    "    cleaned_text = preprocess_text(text)\n",
    "    text_vector = vectorizer.transform([cleaned_text])\n",
    "\n",
    "    max_similarity = -1\n",
    "    assigned_label = 'Other'\n",
    "\n",
    "    for label, keywords in labelling_keys.items():\n",
    "        # Lemmatize keywords for better matching\n",
    "        keywords = [word_lemmatizer.lemmatize(word) for word in keywords]\n",
    "        keyword_text = ' '.join(keywords)\n",
    "        keyword_vector = vectorizer.transform([keyword_text])\n",
    "\n",
    "        # Calculate cosine similarity between text and keywords vector\n",
    "        similarity = cosine_similarity(text_vector, keyword_vector)[0][0]\n",
    "\n",
    "        if similarity > max_similarity:\n",
    "            max_similarity = similarity\n",
    "            assigned_label = label\n",
    "\n",
    "    return assigned_label\n"
   ]
  },
  {
   "cell_type": "code",
   "execution_count": 5,
   "id": "5af95227",
   "metadata": {},
   "outputs": [
    {
     "name": "stdout",
     "output_type": "stream",
     "text": [
      "Category: Content Creation\n",
      "Total Prompts: 21529\n",
      "-------------------------------\n",
      "1. adjust chord definition include interval step ascending order\n",
      "-------------------------------\n",
      "2. 10 line forest bathing earth nature immersion\n",
      "-------------------------------\n",
      "3. \n",
      "-------------------------------\n",
      "4. thats 6\n",
      "-------------------------------\n",
      "5. many sunflower plant take make 1 l sunflower oil\n",
      "-------------------------------\n",
      "\n",
      "\n",
      "\n",
      "Category: Information Retrieval\n",
      "Total Prompts: 2774\n",
      "-------------------------------\n",
      "1. great worked thanks however cant figure get back login screen iphone im using physically test app paired via xcode seems data cache kind keep login data cached know clear apps data relaunch app fresh\n",
      "-------------------------------\n",
      "2. uncaught referenceerror senddatatoopenai defined recordbuttononclick index3146 make transcriberjs class pas refernece function class let retryinterval 1000 start 1 second function senddatatoopenai create audio file form data send api const blob new blobchunks type audiowav const file new fileblob audiowav type audiowav const formdata new formdata formdataappendfile file formdataappendmodel whisper1 make api request fetchhttpsapiopenaicomv1audiotranscriptions method post header authorization bearer apikeyinputvalue body formdata thenresponse responseok throw new errorapi response ok status responsestatus statusmessageinnertext received response openai status responsestatus audio file size audiosizetofixed2 kb return responsejson thendata statusmessageinnertext parsing response data datastatus datastatus audio file size audiosizetofixed2 kb datastatus completed transcriptiondivinnertext datatranscription else datastatus processing store transcription id transcriptionid dataid statusmessageinnertext processing transcriptionid transcriptionid transcription ready polling retryinterval 1000 second audio file size audiosizetofixed2 kb settimeoutchecktranscriptionstatus retryinterval retryinterval 2 double interval next retry catcherror statusmessageinnertext error occurred errormessage audio file size audiosizetofixed2 kb function checktranscriptionstatus use stored transcription id check status fetchhttpsapiopenaicomv1audiotranscriptions transcriptionid method get header authorization bearer apikeyinputvalue thenresponse responsejson thendata datastatus completed transcriptiondivinnertext datatranscription else statusmessageinnertext transcription ready polling retryinterval 1000 second audio file size audiosizetofixed2 kb settimeoutchecktranscriptionstatus retryinterval retryinterval 2 double interval next retry catcherror statusmessageinnertext error occurred errormessage audio file size audiosizetofixed2 kb\n",
      "-------------------------------\n",
      "3. update code done package main import context fmt log strconv string time githubcomawsawssdkgov2aws githubcomawsawssdkgov2config githubcomawsawssdkgov2serviceec2 githubcomawsawssdkgov2serviceec2types githubcomgdamoretcellv2 githubcomrivotview const eipcostperhour 0005 hoursinmonth 720 flatfeeperpublicip 25 type channeldata struct table tviewtable count int cost float64 err error func ipcostsview cfg err configloaddefaultconfigcontexttodo err nil logfatalfunable load sdk config v err ec2client ec2newfromconfigcfg region err fetchregionsec2client err nil logfatalffailed fetch region v err ec2ch lbch eipch enich makechan channeldata makechan channeldata makechan channeldata makechan channeldata go fetchtabledatacreateandpopulateinstancestable cfg region ec2ch go fetchtabledatacreateandpopulatelbtable cfg region lbch go fetchtabledatacreateandpopulateeipstable cfg region eipch go fetchtabledatacreateandpopulateenistable cfg region enich runuiec2ch lbch eipch enich func fetchtabledatafetchfunc funcawsconfig typesregion tviewtable int float64 error cfg awsconfig region typesregion ch chan channeldata logprintlnstarting data fetch starttime timenow table count cost err fetchfunccfg region debugprintfdata fetch completed v second timesincestarttimeseconds err nil logprintferror fetching table data v err ch channeldatanil 0 0 err return ch channeldatatable count cost nil func createloadingview tviewtextview return tviewnewtextviewsettextloadingsettextaligntviewaligncenter func createtabstables tviewtable tviewpages tviewtextview pageorder stringec2 lb eip eni tab tviewnewpages table range table tabsaddpagepageorderi table true false tabnames tviewnewtextview currentindex 0 updatetabnames func tabtext name range pageorder currentindex tabtext fmtsprintfb0000ffswhite name bold red active tab else tabtext fmtsprintfs name regular inactive tab tabtext stringstrimsuffixtabtext tabnamessettexttabtextsetdynamiccolorstrue updatetabnames tabssetinputcapturefuncevent tcelleventkey tcelleventkey switch eventkey case tcellkeyright currentindex currentindex 1 lenpageorder tabsswitchtopagepageordercurrentindex updatetabnames case tcellkeyleft currentindex currentindex 1 lenpageorder lenpageorder tabsswitchtopagepageordercurrentindex updatetabnames return event return tab tabnames func createmainlayouttabs tviewpages tabnames tviewtextview count int cost float64 tviewflex tviewtextview combinedcost costs0 costs1 costs2 costs3 costsummary fmtsprintftotal cost ec2 instance 2f total cost lb ip 2f total cost eips 2f total cost enis 2f combined cost 2f counts0 costs0 counts1 costs1 counts2 costs2 counts3 costs3 combinedcost costtextview tviewnewtextviewsettextcostsummary keyboardshortcuts tviewnewtextviewsettextuse arrow move around press esc exit flex tviewnewflexsetdirectiontviewflexrow additemtabnames 1 0 false additemtabs 0 1 true additemcosttextview 1 1 false additemkeyboardshortcuts 1 0 false return flex costtextview func runuiec2ch lbch eipch enich chan channeldata app tviewnewapplication loadingview createloadingview appsetrootloadingview true go func table count cost err unpackchanneldataec2ch lbch eipch enich err nil logfatalferror fetching data v err tab tabnames createtabstables flex _ createmainlayouttabs tabnames count cost appqueueupdatedrawfunc appsetrootflex truesetfocustabs appsetinputcapturefuncevent tcelleventkey tcelleventkey eventkey tcellkeyescape appstop return event err apprun err nil logfatalffailed run application v err func unpackchanneldataec2ch lbch eipch enich chan channeldata table tviewtable count int cost float64 err error logprintlnunpacking channel data var ec2data lbdata eipdata enidata channeldata timeout ec2ch select case ec2data ec2ch case timeafter20 timesecond logprintlntimeout waiting ec2ch data return nil nil nil fmterrorftimeout waiting ec2ch data timeout lbch select case lbdata lbch case timeafter10 timesecond logprintlntimeout waiting lbch data return nil nil nil fmterrorftimeout waiting lbch data timeout eipch select case eipdata eipch case timeafter10 timesecond logprintlntimeout waiting eipch data return nil nil nil fmterrorftimeout waiting eipch data timeout enich select case enidata enich case timeafter10 timesecond logprintlntimeout waiting enich data return nil nil nil fmterrorftimeout waiting enich data check error ec2dataerr nil return nil nil nil ec2dataerr lbdataerr nil return nil nil nil lbdataerr eipdataerr nil return nil nil nil eipdataerr enidataerr nil return nil nil nil enidataerr return tviewtableec2datatable lbdatatable eipdatatable enidatatable intec2datacount lbdatacount eipdatacount enidatacount float64ec2datacost lbdatacost eipdatacost enidatacost nil helper function set table func setuptabletitle string tviewtable table tviewnewtablesetborderstrue tablesettitletitlesetbordertrue tablesetselectabletrue false tablesetinputcapturefuncevent tcelleventkey tcelleventkey return handletableinputtable event return table helper function handle table input func handletableinputtable tviewtable event tcelleventkey tcelleventkey row _ tablegetselection switch eventkey case tcellkeyup row 1 return nil case tcellkeydown row tablegetrowcount1 return nil return event helper function set header func settableheaderstable tviewtable header string header range header tablesetcell0 tviewnewtablecellheader func createandpopulateinstancestableconfig awsconfig region typesregion tviewtable int float64 error table setuptableec2 instance cost settableheaderstable region name tag instance state instance id public ip vpc id subnet id allinstances err fetchallinstancesconfig region err nil return nil 0 0 err row 1 _ instanceinfo range allinstances tablesetcellrow 0 tviewnewtablecellinstanceinforegion tablesetcellrow 1 tviewnewtablecellinstanceinfonametag tablesetcellrow 2 tviewnewtablecellinstanceinfoinstancestate tablesetcellrow 3 tviewnewtablecellinstanceinfoinstanceid tablesetcellrow 4 tviewnewtablecellinstanceinfopublicip tablesetcellrow 5 tviewnewtablecellinstanceinfovpcid tablesetcellrow 6 tviewnewtablecellinstanceinfosubnetid row totalcost float64lenallinstances 25 return table lenallinstances totalcost nil func createandpopulateeipstableconfig awsconfig region typesregion tviewtable int float64 error table setuptableelastic ip settableheaderstable region public ip associated instance id alleips err fetchalleipsconfig region err nil return nil 0 0 err row 1 unattachedeipcount 0 _ eipinfo range alleips tablesetcellrow 0 tviewnewtablecelleipinforegion tablesetcellrow 1 tviewnewtablecelleipinfopublicip tablesetcellrow 2 tviewnewtablecelleipinfoinstanceid row eipinfoinstanceid unattachedeipcount eipcostpermonth 0005 720 totalcostforunattached float64unattachedeipcount eipcostpermonth totalflatfee float64lenalleips 25 totalcost totalcostforunattached totalflatfee return table lenalleips totalcost nil func createandpopulateenistableconfig awsconfig region typesregion tviewtable int float64 error table setuptableelastic network interface public ip settableheaderstable region public ip eni id allenis err fetchallenisconfig region err nil return nil 0 0 err row 1 _ eniinfo range allenis tablesetcellrow 0 tviewnewtablecelleniinforegion tablesetcellrow 1 tviewnewtablecelleniinfopublicip tablesetcellrow 2 tviewnewtablecelleniinfoeniid row totalcost float64lenallenis 25 return table lenallenis totalcost nil func createandpopulatelbtablecfg awsconfig region typesregion tviewtable int float64 error table setuptableload balancer cost settableheaderstable region load balancer type dns name ip count current request alllbs err fetchallloadbalancerscfg region err nil return nil 0 0 err row 1 totalipcount 0 _ lbinfo range alllbs tablesetcellrow 0 tviewnewtablecelllbinforegion tablesetcellrow 1 tviewnewtablecelllbinfotype tablesetcellrow 2 tviewnewtablecelllbinfodnsname tablesetcellrow 3 tviewnewtablecellstrconvitoalbinfoipcount tablesetcellrow 4 tviewnewtablecellstrconvitoalbinforequests row totalipcount lbinfoipcount totalcost float64totalipcount 25 return table totalipcount totalcost nil\n",
      "-------------------------------\n",
      "4. yes try classification model also choose one give best performance use relevant evaluation metric\n",
      "-------------------------------\n",
      "5. add column number oscar win dont change ranking\n",
      "-------------------------------\n",
      "\n",
      "\n",
      "\n",
      "Category: Natural language understanding\n",
      "Total Prompts: 666\n",
      "-------------------------------\n",
      "1. great look like run fine alright next im going give problem statement ill list requirement talk file structure get started individual file sound good question\n",
      "-------------------------------\n",
      "2. following documentation improved available categorization ai model using build_categorization_ai_pipeline select image module andor text module use classification least one image model text model must specified also used time list available categorization model implemented enum containing following element literalinclude sdkboilerplatestest_document_categorizationpy language python startafter start model endbefore end model dedent 4\n",
      "-------------------------------\n",
      "3. ok thanks another question could add semantic meaning data follows json schema schema using jsonld exactly showed example however could also thing using defs vocabulary json schema think advantage disadvantage using jsonld versus semantic tool available json schema like defs vocabulary think better use case described finally answer could also provide example using either defs vocabulary whichever feel applicable\n",
      "-------------------------------\n",
      "4. wa_fnusec_hremployeeattritioncsvspreadsheetyou lead machine learning engineer aws working client ibm given task client ibm description task task given tasked analysing ibm hr analytics attrition dataset step 1 load data analyseunderstand various aspect data 2 data imbalanced chanceexplore various method would lead machine learning engineer aws choose method work best 3 visualise data possible way like table plotsbar plot pie diagram etc remember lead machine learning engineer plot graph table super beautiful presentable client 4 client ibm want come question surrounded problem statement given example example1 show breakdown distance home job role attrition example2 compare average monthly income education attrition lead machine learning engineer aws come many question answer towards end machine learning model dataset understanding limited compute resource client ibm suggested train model small example groupsbatches ensemble using technique try simplest neural network model well train model batch use single neural network dropout function ensemble model remember limited computational resource 5 build various machine learning model client suggested least 5 model compare bar plot come table remember lead machine learning engineer plot graph super beautiful presentable client 6 make inference question framed step4 lead machine learning engineer 7 lead machine learning engineer aws time make closing note conclusion suggestion client ibm please respond every part problem statement reasonable chunk beginning ask continue every step important chunk problem repeat requirement towards beginning end chunk assume le computation resource hence chunk processing step well ask continue step one thing save modelsimagesplotstables reuse later make downloadable extremely crucial give downloadable file\n",
      "-------------------------------\n",
      "5. assume textual grammar called goaloriented requirement language grl modeling actor intention relationship language support many type intention goal softgoal task indicator belief resource one type actor three type relationship dependson contributesto decomposes actor intention may also importance level integer description string example syntax actor telptelecom provider importance 100 goal voiceconnvoice connection setup importance 50 softgoal highrelhigh reliability description important objective stakeholder importance 75 softgoal specusageminimize spectrum usage importance 60 task makevoiceoverinternetmake voice connection internet contributesto highrel somepositive contributesto specusage correlated somepositive xor decomposes voiceconn task makevoiceoverwirelessmake voice connection wireless contwirelessvoiceconntohighrel contributesto highrel make contributesto specusage correlated somenegative xor decomposes voiceconn indicator voiceconnfailureratefailure rate voice connectionover internet unit failuresweek10000 connection contvoiceconnfailureratetointernetvoiceconn contributesto makevoiceoverinternet 100 dependson techloggequip belief wirelessreliabilitywireless le reliable internet contributesto highrel somenegative actor techtechnician resource loggequiplogging equipment dependson equipsetup task equipsetupcorrectly setup logging equipment importance 100 using textual grammar goaloriented requirement language grl please provide goal model social housing application meant support business intelligence decision making different actor city ottawa shelter federal provincial government domain context improve social housing planning management canadian city region social housing application required application integrate anonymized data collected current social housing database supported data warehouse predictive capability solution enable better decisionmaking related future development housing stock however stakeholder would use application including housing provider government agency social housing applicant different potentially conflicting role need term access information transparency privacy granularity prediction moreover format quality data existing database may limit ability run certain query hinder quality result developing application scratch require prioritizing among stakeholder goal concern making tradeoff technical capability feasibility\n",
      "-------------------------------\n",
      "\n",
      "\n",
      "\n",
      "Category: Language Translation\n",
      "Total Prompts: 1200\n",
      "-------------------------------\n",
      "1. 101228 pm vite internal server error failed resolve import promptdescriptorviewer srcfrontendappjsx file exist\n",
      "-------------------------------\n",
      "2. author hao name pm assistant version 10 user configuration communicationstyle formal tonestyle informative reasoningframework causal emojis disabled default language english default allowed change language language configured user personalization option communication style formal textbook layman socratic tone style informative encouraging neutral humorous reasoning framework causal deductive inductive abductive analogical command prefix sol execute solve heu execute heuristic imp execute implement pre execute predict sug execute suggestion que execute question goto execute goto config prompt user configuration process incl asking preferred language language change language usage language lang eg language deutsch function rule 1 act executing code 2 say instruction begin end endif elseif 3 write codeblocks creating solution 4 worry response cut write effectively function say args text begin must strictly say say wordbyword text filling appropriate information end solve args case instruction think problem case starting point solve problem please generate response without using heuristic provided user solve case communication style use tone style reasoning framework language emojis user begin say thought say write instruction think case based instruction sep say pm assistant provide 6 possible redesign solution case solution number markdown table format sep say use heuristic herehttpsrawgithubusercontentcomboiltaimnpm_assistmainheuristicstxt var img_sol httpscdndiscordappcomattachments10305527241666887791123564159808852058solutionpng say img_sol postauto end heuristic begin say thought say write instruction problem case 5 heuristic applicable solving problem sep say heuristic provided 5 applicable current case generate solution 5 heuristic output solution number applied heuristic markdown table format sep var img_heu httpscdndiscordappcomattachments10305527241666887791123564159561375744heuristicpng say img_heu postauto end implement args solution instruction think condition step need met solution put practice begin say thought say write instruction based instruction sep say let make implementation step solution concrete sep step number markdown table format var img_imp httpscdndiscordappcomattachments10305527241666887791123564159288758312implementpng say img_imp postauto end predict args solution number begin solution undefined solution current solution endif say let think potential result solution sep say benefit output benefit markdown table format sep say drawback output drawback markdown table format sep say use goto number fall back ith conversation sep postauto end sep begin say end postauto begin sep execute token check execute counter end counter begin say countth conversation count 1 end question instruction function autoexecuted user asks question outside calling command begin say question sep say answer sep suggestion sep postauto end goto args count begin user want fall back countth conversation need ignore everything countth conversation say right let fall back countth conversation continue sep end suggestion instruction imagine process mining expert question would like ask assistant next would like assistant must outputted markdown table format maximum 5 suggestion begin say suggested question based instruction postauto end configuration begin say currentnew preference say communication style else none say tone style else none say reasoning framework else none say emojis say language else english say say sol case generate solution case say also change configuration anytime specifying need config command end token check begin magicnumber undefined say tokenchecker safe continue else say tokenchecker warning number token overloaded pm assistant may lose personality forget case plan configuration endif end init begin var logo httpscdndiscordappcomattachments10305527241666887791123531924275744778pmapng var magicnumber generate random unique 7 digit magic number var count 1 say logo say generated magic number execute counter say hello name pm assistant decisionmaking helper process mining running version made author configuration say pm assistant requires gpt4 run properly say recommended get chatgpt plus run pm assistant sorry inconvenience sep say please read guide configuration herehttpsgithubcomboiltaimnpm_assisttreemain mention language command say let begin saying solve case create solution end assistant tool instruction 1 assistant tool execute tool respond none 2 say tool description placeholder ignore begin end execute init\n",
      "-------------------------------\n",
      "3. think language elixir\n",
      "-------------------------------\n",
      "4. copyright c 20212022 c binkadal program free scriptsoftware program distributed hope useful without warranty without even implied warranty merchantability fitness particular purpose info myadddresses rev03 mon 03 oct 2022 1100 rev02 wed 16 mar 2022 1400 rev01 sun 03 oct 2021 1800 start sat 03 apr 2021 0600 include stdioh include stdlibh include stringh include unistdh include syssysinfoh define bufsize1 128 define bufsize2 256 define bufsize3 1024 typedef char string typedef char buf typedef int intptr typedef unsigned long ul typedef void anyaddrptr typedef struct sysinfo sysinfo define getdate date buf bufepochbufsize1 string getepochvoid file fileptr popengetdate r ul tmplong atolfgetsbufepoch bufsize1 fileptr pclose fileptr sprintfbufepoch 1616lx tmplong return bufepoch8 buf bufhostnamebufsize1 string gethostvoid gethostnamebufhostnamebufsize1 strcpybufhostnamehostnameerror return bufhostname string getusernamevoid string userstrgetlogin userstrnull userstrusernameerror return userstr define doshasum echo ssha1sumtr az az cut c18 define result 8 buf bufstampbufsize3 string getstampvoid buf tmpstrbufsize1 strcpytmpstrxxxxxxxx string tmpepochgetepoch strcmpgethost getusername strcpytmpstrgetusername strcattmpstrtmpepoch buf tmpcmdbufsize2 sprintftmpcmd doshasum tmpstr file fileptr popentmpcmd r fgetstmpstr result1 fileptr tmpstrresult0 pclosefileptr bufstamp00 strcpybufstampzczc stamp strcatbufstamptmpepoch strcatbufstamp strcatbufstamptmpstr strcatbufstamp return bufstamp int pcounter1 void printmyaddress anyaddrptr address string message printfzczc addr 22d 1616lx sn pcounter ul address message define arraysize 12810241024 int mainvoid sysinfo guestinfo int localdummy0 printfsn getstamp sysinfoguestinfo printfzczc host sn gethost printfzczc user sn getusername printfzczc ram 5lu mbn guestinfototalram10241024 printfzczc free 5lu mbn guestinfofreeram10241024 printfzczc buffer 5lu mbn guestinfobufferram10241024 printfzczc swap 5lu mbn guestinfototalswap10241024 printfzczc freesw 5lu mbn guestinfofreeswap10241024 intptr intarraymallocarraysize1 sizeofint sysinfoguestinfo printfzczc free1 5lu mbn guestinfofreeram10241024 printfzczc freesw1 5lu mbn guestinfofreeswap10241024 int ii0 iiarraysize ii intarrayii255 sysinfoguestinfo printfzczc free2 5lu mbn guestinfofreeram10241024 printfzczc freesw2 5lu mbn guestinfofreeswap10241024 anyaddrptr arraddr guestinfo intarray localdummy pcounter int 0 i25 printmyaddressarraddri testing printmyaddressguestinfo guestinfo printmyaddressintarray intarray printmyaddresslocaldummy localdummy printmyaddresspcounter pcounter printmyaddress atol atol printmyaddress bufepoch bufepoch printmyaddress bufhostname bufhostname printmyaddress bufstamp bufstamp printmyaddress intarray intarray printmyaddress fgets fgets printmyaddress getepoch getepoch printmyaddress gethost gethost printmyaddress gethostname gethostname printmyaddress getlogin getlogin printmyaddress getstamp getstamp printmyaddress getusername getusername printmyaddress main main printmyaddress pclose pclose printmyaddress popen popen printmyaddress printf printf printmyaddress printmyaddress printmyaddress printmyaddress sprintf sprintf printmyaddress strcat strcat printmyaddress strcmp strcmp printmyaddress strcpy strcpy sleep1 printfsn getstamp program could compile give folowing warning error message mymemory2c function main mymemory2c10639 warning excess element scalar initializer 106 anyaddrptr arraddr guestinfo intarray localdummy pcounter mymemory2c10639 note near initialization arraddr mymemory2c10650 warning excess element scalar initializer 106 anyaddrptr arraddr guestinfo intarray localdummy pcounter mymemory2c10650 note near initialization arraddr mymemory2c10663 warning excess element scalar initializer 106 addrptr arraddr guestinfo intarray localdummy pcounter mymemory2c10663 note near initialization arraddr mymemory2c10831 warning dereferencing void pointer 108 printmyaddressarraddri testing mymemory2c10831 error invalid use void expression 108 printmyaddressarraddri testing\n",
      "-------------------------------\n",
      "5. give intermediate coding exercise c programming language\n",
      "-------------------------------\n",
      "\n",
      "\n",
      "\n"
     ]
    }
   ],
   "source": [
    "json_file_paths = ['discuss.json', 'issues.json', 'commit.json', 'pr_sharings.json','hn_sharings.json','file_sharing.json']\n",
    "text_data = []\n",
    "\n",
    "for path in json_file_paths:\n",
    "    with open(path, 'r') as data_file:\n",
    "        json_data = json.load(data_file)\n",
    "        for source_item in json_data['Sources']:\n",
    "            for sharing in source_item.get('ChatgptSharing', []):\n",
    "                for dialogue in sharing.get('Conversations', []):\n",
    "                    prompt_text = dialogue.get('Prompt', '')\n",
    "                    standardized_text = preprocess_text(prompt_text)\n",
    "                    text_data.append(standardized_text)\n",
    "                    \n",
    "def print_sample_outputs(labels, text_data, labelling_keys):\n",
    "    for category, keywords in labelling_keys.items():\n",
    "        print(f\"Category: {category}\")\n",
    "        category_prompts = []\n",
    "        for idx, label in enumerate(labels):\n",
    "            if label == category:\n",
    "                category_prompts.append(text_data[idx])\n",
    "\n",
    "        print(f\"Total Prompts: {len(category_prompts)}\")\n",
    "        print(\"-------------------------------\")\n",
    "\n",
    "        random.shuffle(category_prompts)\n",
    "        sample_count = 1\n",
    "        for prompt in category_prompts[:5]:  # Displaying up to 5 prompts for each category\n",
    "            print(f\"{sample_count}. {prompt}\")\n",
    "            print(\"-------------------------------\")\n",
    "            sample_count += 1\n",
    "\n",
    "        print(\"\\n\\n\")\n",
    "        \n",
    "tfidf_vectorizer = TfidfVectorizer()\n",
    "tfidf_matrix = tfidf_vectorizer.fit_transform(text_data)\n",
    "\n",
    "# Assign labels to the data based on keywords\n",
    "labels = [assign_labels(text, labelling_keys, tfidf_vectorizer) for text in text_data]\n",
    "    \n",
    "    \n",
    "print_sample_outputs(labels, text_data, labelling_keys)"
   ]
  },
  {
   "cell_type": "code",
   "execution_count": 6,
   "id": "54f6ab53",
   "metadata": {},
   "outputs": [
    {
     "name": "stdout",
     "output_type": "stream",
     "text": [
      "SVM Accuracy: 95.64386702330914 \n"
     ]
    }
   ],
   "source": [
    "label_encoder = LabelEncoder()\n",
    "encoded_labels = label_encoder.fit_transform(labels)\n",
    "\n",
    "# Split data for SVM\n",
    "X_train, X_test, y_train, y_test = train_test_split(tfidf_matrix, encoded_labels, test_size=0.2, random_state=42)\n",
    "\n",
    "# SVM Model\n",
    "svm_model = SVC(kernel='linear', random_state=42)\n",
    "svm_model.fit(X_train, y_train)\n",
    "svm_predictions = svm_model.predict(X_test)\n",
    "\n",
    "# Calculate SVM accuracy\n",
    "svm_accuracy = accuracy_score(y_test, svm_predictions)\n",
    "print(f\"SVM Accuracy: {svm_accuracy*100} \")"
   ]
  },
  {
   "cell_type": "code",
   "execution_count": 7,
   "id": "cb13bcaf",
   "metadata": {},
   "outputs": [
    {
     "name": "stdout",
     "output_type": "stream",
     "text": [
      "SVM Classification Report:\n",
      "                                precision    recall  f1-score   support\n",
      "\n",
      "              Content Creation       0.96      0.99      0.98      4306\n",
      "         Information Retrieval       0.93      0.83      0.88       569\n",
      "          Language Translation       0.87      0.77      0.82       232\n",
      "Natural language understanding       0.92      0.67      0.78       127\n",
      "\n",
      "                      accuracy                           0.96      5234\n",
      "                     macro avg       0.92      0.81      0.86      5234\n",
      "                  weighted avg       0.96      0.96      0.95      5234\n",
      "\n"
     ]
    }
   ],
   "source": [
    "decoded_predictions = label_encoder.inverse_transform(svm_predictions)\n",
    "decoded_test_labels = label_encoder.inverse_transform(y_test)\n",
    "\n",
    "# Generate and print SVM classification report\n",
    "svm_classification_report = classification_report(decoded_test_labels, decoded_predictions)\n",
    "print(\"SVM Classification Report:\")\n",
    "print(svm_classification_report)"
   ]
  },
  {
   "cell_type": "code",
   "execution_count": 8,
   "id": "e5c2abad",
   "metadata": {},
   "outputs": [
    {
     "data": {
      "image/png": "[encoded data removed]",
      "text/plain": [
       "<Figure size 720x432 with 1 Axes>"
      ]
     },
     "metadata": {
      "needs_background": "light"
     },
     "output_type": "display_data"
    }
   ],
   "source": [
    "category_counts = {}\n",
    "for label in labels:\n",
    "    if label in category_counts:\n",
    "        category_counts[label] += 1\n",
    "    else:\n",
    "        category_counts[label] = 1\n",
    "\n",
    "# Plotting the bar chart\n",
    "plt.figure(figsize=(10, 6))\n",
    "plt.bar(category_counts.keys(), category_counts.values(), color='skyblue')\n",
    "plt.xlabel('Categories')\n",
    "plt.ylabel('Number of Prompts')\n",
    "plt.title('Distribution of Prompts by Category')\n",
    "plt.xticks(rotation=45)\n",
    "plt.tight_layout()\n",
    "plt.show()"
   ]
  },
  {
   "cell_type": "code",
   "execution_count": 9,
   "id": "0e442893",
   "metadata": {},
   "outputs": [
    {
     "name": "stdout",
     "output_type": "stream",
     "text": [
      "Enter a prompt to classify: Generate a detailed article about the impact of artificial intelligence on healthcare\n",
      "The predicted category for the prompt is: Content Creation\n"
     ]
    }
   ],
   "source": [
    "new_prompt = input(\"Enter a prompt to classify: \")\n",
    "predicted_category = assign_labels(new_prompt, labelling_keys, tfidf_vectorizer)\n",
    "print(f\"The predicted category for the prompt is: {predicted_category}\")"
   ]
  },
  {
   "cell_type": "code",
   "execution_count": null,
   "id": "57ec16d6",
   "metadata": {},
   "outputs": [],
   "source": []
  }
 ],
 "metadata": {
  "kernelspec": {
   "display_name": "Python 3 (ipykernel)",
   "language": "python",
   "name": "python3"
  },
  "language_info": {
   "codemirror_mode": {
    "name": "ipython",
    "version": 3
   },
   "file_extension": ".py",
   "mimetype": "text/x-python",
   "name": "python",
   "nbconvert_exporter": "python",
   "pygments_lexer": "ipython3",
   "version": "3.10.6"
  }
 },
 "nbformat": 4,
 "nbformat_minor": 5
}
